{
 "cells": [
  {
   "cell_type": "raw",
   "id": "404d8199-5519-4c40-a4d3-85228c127e46",
   "metadata": {},
   "source": [
    "1. What is a Support Vector Machine (SVM)?\n",
    "\n",
    "A Support Vector Machine (SVM) is a supervised machine learning algorithm used for classification and regression tasks.\n",
    "It works by finding the optimal hyperplane that separates data points of different classes with the maximum margin (largest possible distance between the decision boundary and nearest data points).\n",
    "\n",
    "2. What is the difference between Hard Margin and Soft Margin SVM?\n",
    "\n",
    "Hard Margin SVM:\n",
    "Used when data is perfectly linearly separable.\n",
    "No misclassification is allowed.\n",
    "Very sensitive to noise and outliers.\n",
    "\n",
    "Soft Margin SVM:\n",
    "Allows some misclassifications to improve generalization.\n",
    "Controlled by parameter C.\n",
    "Works better on non-linear or noisy data.\n",
    "\n",
    "\n",
    "3. What is the mathematical intuition behind SVM?\n",
    "\n",
    "SVM works by finding a hyperplane that separates classes with the maximum margin (largest distance between the closest points of each class and the boundary).\n",
    "Maximizing the margin ensures better generalization and reduces the chance of misclassification on new data.\n",
    "\n",
    "\n",
    "4. What is the role of Lagrange Multipliers in SVM?\n",
    "\n",
    "Lagrange Multipliers are used in SVM to simplify the optimization process.\n",
    "They help convert the constrained optimization problem (maximizing the margin while correctly classifying data) into an unconstrained problem that is easier to solve mathematically.\n",
    "\n",
    "\n",
    "5. What are Support Vectors in SVM?\n",
    "\n",
    "Support Vectors are the data points closest to the decision boundary (hyperplane).\n",
    "They are crucial because the position of the hyperplane depends only on them — removing other points doesn’t affect the model.\n",
    "\n",
    "\n",
    "6. What is a Support Vector Classifier (SVC)?\n",
    "\n",
    "A Support Vector Classifier (SVC) is the classification implementation of SVM.\n",
    "It separates classes by finding an optimal hyperplane in either linear or non-linear space (using kernels).\n",
    "\n",
    "\n",
    "7. What is a Support Vector Regressor (SVR)?\n",
    "\n",
    "A Support Vector Regressor (SVR) applies SVM principles to regression.\n",
    "It fits a function within a tolerance margin (ε), ignoring small errors and penalizing larger ones to achieve the best predictive fit.\n",
    "\n",
    "\n",
    "8. What is the Kernel Trick in SVM?\n",
    "\n",
    "The Kernel Trick allows SVM to work with non-linearly separable data by mapping it into a higher-dimensional space without explicitly computing that transformation.\n",
    "Common kernels: Linear, Polynomial, RBF (Gaussian), and Sigmoid.\n",
    "\n",
    "\n",
    "9. Compare Linear Kernel, Polynomial Kernel, and RBF Kernel.\n",
    "\n",
    "Linear Kernel:\n",
    "The Linear Kernel is the simplest type and is used when the data is linearly separable — meaning it can be divided by a straight line or plane. It works well for high-dimensional datasets like text data and is computationally fast.\n",
    "\n",
    "Polynomial Kernel:\n",
    "The Polynomial Kernel is used when the relationship between features is non-linear. It can model more complex boundaries by considering not only the original features but also their combinations and powers. The degree of the polynomial controls the complexity of the model.\n",
    "\n",
    "RBF (Radial Basis Function) Kernel:\n",
    "The RBF Kernel, also known as the Gaussian Kernel, is the most widely used. It is suitable for highly non-linear data where the relationship between variables is complex. It works by measuring the similarity between two data points and can create very flexible decision boundaries.\n",
    "\n",
    "10. What is the effect of the C parameter in SVM?\n",
    "\n",
    "The C parameter controls the balance between maximizing margin and minimizing classification error.\n",
    "High C → small margin, fits training data tightly → risk of overfitting.\n",
    "Low C → larger margin, allows misclassification → better generalization.\n",
    "\n",
    "\n",
    "11. What is the role of the Gamma parameter in RBF Kernel SVM?\n",
    "\n",
    "Gamma (γ) controls the influence of each training example.\n",
    "High γ → smaller area of influence → overfitting.\n",
    "Low γ → larger area of influence → underfitting.\n",
    "It defines how far a single training example affects the model’s decision boundary.\n",
    "\n",
    "\n",
    "12. What is the Naïve Bayes classifier, and why is it called “Naïve”?\n",
    "\n",
    "Naïve Bayes is a probabilistic classifier based on Bayes’ Theorem.\n",
    "It’s called “Naïve” because it assumes that all features are independent given the class label — an assumption that simplifies computation but is rarely true in real life.\n",
    "\n",
    "\n",
    "13. What is Bayes’ Theorem?\n",
    "\n",
    "Bayes’ Theorem is a fundamental concept in probability and statistics that describes how to update the probability of a hypothesis based on new evidence or information.\n",
    "It combines prior knowledge about an event (called the prior probability) with the likelihood of observing new data to calculate the posterior probability — the updated belief after seeing the evidence.\n",
    "In simpler terms, Bayes’ Theorem helps us answer questions like: “Given what I already know, how likely is this hypothesis to be true after observing new information?”\n",
    "\n",
    "\n",
    "14. Explain the differences between Gaussian, Multinomial, and Bernoulli Naïve Bayes.\n",
    "\n",
    "There are three main types of Naïve Bayes classifiers, and each is used for different types of data:\n",
    "Gaussian Naïve Bayes:\n",
    "This type is used when the features are continuous and follow a normal (Gaussian) distribution. It estimates the mean and variance of each feature within each class and uses these values to calculate probabilities. It is suitable for datasets like height, weight, or temperature where features are real-valued.\n",
    "\n",
    "Multinomial Naïve Bayes:\n",
    "This variant is used for discrete or count-based features, such as the frequency of words in a document. It is commonly used in text classification problems like spam filtering or document categorization, where features represent the number of times a word appears.\n",
    "\n",
    "Bernoulli Naïve Bayes:\n",
    "This model is used when features are binary (0 or 1), representing the presence or absence of a feature. It is also popular in text classification tasks, especially when we only care whether a word appears in a document, not how many times it appears.\n",
    "\n",
    "15. When should you use Gaussian Naïve Bayes over other variants?\n",
    "\n",
    "Use Gaussian Naïve Bayes when the dataset has continuous numerical features (like age, salary, or temperature) that roughly follow a normal (Gaussian) distribution.\n",
    "\n",
    "16. What are the key assumptions made by Naïve Bayes?\n",
    "\n",
    "All features are independent given the class label.\n",
    "Each feature contributes equally and independently to the outcome.\n",
    "The data does not have strong correlations between features.\n",
    "\n",
    "\n",
    "\n",
    "17. What are the advantages and disadvantages of Naïve Bayes?\n",
    "\n",
    "Advantages:\n",
    "Fast and simple to implement.\n",
    "Works well with small datasets.\n",
    "Effective for text and spam classification.\n",
    "\n",
    "Disadvantages:\n",
    "Assumes feature independence (often false).\n",
    "Performs poorly with correlated or continuous non-Gaussian data.\n",
    "\n",
    "\n",
    "18. Why is Naïve Bayes a good choice for text classification?\n",
    "\n",
    "Text data is usually high-dimensional and sparse.\n",
    "Features (words) are mostly conditionally independent.\n",
    "It’s computationally efficient and requires less training data.\n",
    "Performs well in spam detection, sentiment analysis, etc.\n",
    "\n",
    "\n",
    "19. Compare SVM and Naïve Bayes for classification tasks.\n",
    "\n",
    "Support Vector Machine (SVM) and Naïve Bayes are both popular classification algorithms but differ in their approach.\n",
    "SVM is a discriminative model that focuses on finding the optimal decision boundary (hyperplane) separating classes. It works well for complex and non-linear data, but training can be computationally expensive. SVM does not require the assumption of feature independence and performs better when features are correlated.\n",
    "On the other hand, Naïve Bayes is a generative model based on probability and Bayes’ Theorem. It assumes that features are independent given the class label. It is very fast, simple, and effective, especially for text classification tasks like spam detection or sentiment analysis. However, its accuracy may drop when features are highly correlated.\n",
    "\n",
    "\n",
    "\n",
    "20. How does Laplace Smoothing help in Naïve Bayes?\n",
    "\n",
    "Laplace Smoothing is used in Naïve Bayes to avoid zero probability problems that occur when a particular word or feature never appears in the training data for a specific class.\n",
    "It works by adding a small positive value (usually 1) to the count of each feature, ensuring that no probability becomes zero."
   ]
  },
  {
   "cell_type": "code",
   "execution_count": 1,
   "id": "fea97340-65a0-4bdd-b17f-79ec3f6fa15c",
   "metadata": {},
   "outputs": [
    {
     "name": "stdout",
     "output_type": "stream",
     "text": [
      "Accuracy: 1.0\n"
     ]
    }
   ],
   "source": [
    "#21: Naïve Bayes for Spam Detection\n",
    "from sklearn.model_selection import train_test_split\n",
    "from sklearn.feature_extraction.text import CountVectorizer\n",
    "from sklearn.naive_bayes import MultinomialNB\n",
    "from sklearn.metrics import accuracy_score\n",
    "\n",
    "emails = [\"Free money now\", \"Hi, how are you?\", \"Win a prize\", \"Meeting tomorrow\"]\n",
    "labels = [1, 0, 1, 0]  # 1=spam, 0=not spam\n",
    "\n",
    "vectorizer = CountVectorizer()\n",
    "X = vectorizer.fit_transform(emails)\n",
    "y = labels\n",
    "\n",
    "X_train, X_test, y_train, y_test = train_test_split(X, y, test_size=0.25, random_state=42)\n",
    "\n",
    "nb = MultinomialNB()\n",
    "nb.fit(X_train, y_train)\n",
    "y_pred = nb.predict(X_test)\n",
    "print(\"Accuracy:\", accuracy_score(y_test, y_pred))"
   ]
  },
  {
   "cell_type": "code",
   "execution_count": 2,
   "id": "1f1e5144-794e-4bc5-a9c7-0c224b1151b6",
   "metadata": {},
   "outputs": [
    {
     "name": "stdout",
     "output_type": "stream",
     "text": [
      "SVM Accuracy: 0.0\n",
      "Naïve Bayes Accuracy: 1.0\n"
     ]
    }
   ],
   "source": [
    "#22: SVM vs Naïve Bayes on the same dataset\n",
    "from sklearn.svm import SVC\n",
    "\n",
    "svm = SVC(kernel='linear')\n",
    "svm.fit(X_train, y_train)\n",
    "y_pred_svm = svm.predict(X_test)\n",
    "\n",
    "print(\"SVM Accuracy:\", accuracy_score(y_test, y_pred_svm))\n",
    "print(\"Naïve Bayes Accuracy:\", accuracy_score(y_test, y_pred))"
   ]
  },
  {
   "cell_type": "code",
   "execution_count": 5,
   "id": "12d49f7f-205b-4f20-9064-1e2cf948aa9a",
   "metadata": {},
   "outputs": [
    {
     "name": "stdout",
     "output_type": "stream",
     "text": [
      "Accuracy after feature selection: 0.0\n"
     ]
    }
   ],
   "source": [
    "#23: Feature Selection before Naïve Bayes\n",
    "from sklearn.feature_selection import SelectKBest, chi2\n",
    "\n",
    "selector = SelectKBest(chi2, k=2)\n",
    "X_new = selector.fit_transform(X, y)\n",
    "\n",
    "X_train_f, X_test_f, y_train_f, y_test_f = train_test_split(X_new, y, test_size=0.25, random_state=42)\n",
    "nb.fit(X_train_f, y_train_f)\n",
    "y_pred_f = nb.predict(X_test_f)\n",
    "print(\"Accuracy after feature selection:\", accuracy_score(y_test_f, y_pred_f))"
   ]
  },
  {
   "cell_type": "code",
   "execution_count": 6,
   "id": "bd648e4d-b3a1-433b-a667-827d8dd706e7",
   "metadata": {},
   "outputs": [
    {
     "name": "stdout",
     "output_type": "stream",
     "text": [
      "OvR Accuracy: 0.9777777777777777\n",
      "OvO Accuracy: 0.9777777777777777\n"
     ]
    }
   ],
   "source": [
    "#24: SVM One-vs-Rest (OvR) vs One-vs-One (OvO)\n",
    "from sklearn.datasets import load_wine\n",
    "from sklearn.multiclass import OneVsRestClassifier, OneVsOneClassifier\n",
    "\n",
    "wine = load_wine()\n",
    "X, y = wine.data, wine.target\n",
    "X_train, X_test, y_train, y_test = train_test_split(X, y, test_size=0.25, random_state=42)\n",
    "\n",
    "ovr_svm = OneVsRestClassifier(SVC(kernel='linear'))\n",
    "ovr_svm.fit(X_train, y_train)\n",
    "print(\"OvR Accuracy:\", ovr_svm.score(X_test, y_test))\n",
    "\n",
    "ovo_svm = OneVsOneClassifier(SVC(kernel='linear'))\n",
    "ovo_svm.fit(X_train, y_train)\n",
    "print(\"OvO Accuracy:\", ovo_svm.score(X_test, y_test))"
   ]
  },
  {
   "cell_type": "code",
   "execution_count": 7,
   "id": "f36cf6f4-e634-4254-99c3-4038d00f072f",
   "metadata": {},
   "outputs": [
    {
     "name": "stdout",
     "output_type": "stream",
     "text": [
      "linear kernel Accuracy: 0.958041958041958\n",
      "poly kernel Accuracy: 0.9440559440559441\n",
      "rbf kernel Accuracy: 0.951048951048951\n"
     ]
    }
   ],
   "source": [
    "#25: SVM Linear, Polynomial, RBF kernels comparison on Breast Cancer\n",
    "from sklearn.datasets import load_breast_cancer\n",
    "\n",
    "cancer = load_breast_cancer()\n",
    "X, y = cancer.data, cancer.target\n",
    "X_train, X_test, y_train, y_test = train_test_split(X, y, test_size=0.25, random_state=42)\n",
    "\n",
    "kernels = ['linear', 'poly', 'rbf']\n",
    "for k in kernels:\n",
    "    model = SVC(kernel=k)\n",
    "    model.fit(X_train, y_train)\n",
    "    print(f\"{k} kernel Accuracy:\", model.score(X_test, y_test))"
   ]
  },
  {
   "cell_type": "code",
   "execution_count": 8,
   "id": "13f2a80c-2df5-476a-b6a6-d7dd9885bd47",
   "metadata": {},
   "outputs": [
    {
     "name": "stdout",
     "output_type": "stream",
     "text": [
      "Average Accuracy: 0.9455364073901569\n"
     ]
    }
   ],
   "source": [
    "#26: SVM Stratified K-Fold Cross-Validation\n",
    "from sklearn.model_selection import StratifiedKFold, cross_val_score\n",
    "import numpy as np\n",
    "from sklearn.svm import SVC\n",
    "\n",
    "skf = StratifiedKFold(n_splits=5)\n",
    "model = SVC(kernel='linear')\n",
    "scores = cross_val_score(model, X, y, cv=skf)\n",
    "print(\"Average Accuracy:\", np.mean(scores))\n"
   ]
  },
  {
   "cell_type": "code",
   "execution_count": 9,
   "id": "b32ed608-a234-493b-8ad5-3838fce1766f",
   "metadata": {},
   "outputs": [
    {
     "name": "stdout",
     "output_type": "stream",
     "text": [
      "Accuracy with priors [0.7,0.3]: 0.9300699300699301\n",
      "Accuracy with priors [0.5,0.5]: 0.9300699300699301\n"
     ]
    }
   ],
   "source": [
    "#27: Naïve Bayes with different prior probabilities\n",
    "from sklearn.naive_bayes import MultinomialNB\n",
    "\n",
    "nb1 = MultinomialNB(class_prior=[0.7, 0.3])\n",
    "nb1.fit(X_train, y_train)\n",
    "print(\"Accuracy with priors [0.7,0.3]:\", nb1.score(X_test, y_test))\n",
    "\n",
    "nb2 = MultinomialNB(class_prior=[0.5, 0.5])\n",
    "nb2.fit(X_train, y_train)\n",
    "print(\"Accuracy with priors [0.5,0.5]:\", nb2.score(X_test, y_test))\n"
   ]
  },
  {
   "cell_type": "code",
   "execution_count": 10,
   "id": "653718d9-b46c-4e0a-971d-3287176c690d",
   "metadata": {},
   "outputs": [
    {
     "name": "stdout",
     "output_type": "stream",
     "text": [
      "Accuracy after RFE: 0.8811188811188811\n"
     ]
    }
   ],
   "source": [
    "#28: Recursive Feature Elimination (RFE) before SVM\n",
    "from sklearn.feature_selection import RFE\n",
    "from sklearn.svm import SVC\n",
    "from sklearn.model_selection import train_test_split\n",
    "\n",
    "svm = SVC(kernel='linear')\n",
    "rfe = RFE(estimator=svm, n_features_to_select=5)\n",
    "X_rfe = rfe.fit_transform(X, y)\n",
    "X_train_r, X_test_r, y_train_r, y_test_r = train_test_split(X_rfe, y, test_size=0.25, random_state=42)\n",
    "svm.fit(X_train_r, y_train_r)\n",
    "print(\"Accuracy after RFE:\", svm.score(X_test_r, y_test_r))\n"
   ]
  },
  {
   "cell_type": "code",
   "execution_count": 11,
   "id": "03efecc3-09dc-4595-bcc1-8b33ff87e869",
   "metadata": {},
   "outputs": [
    {
     "name": "stdout",
     "output_type": "stream",
     "text": [
      "              precision    recall  f1-score   support\n",
      "\n",
      "           0       0.96      0.93      0.94        54\n",
      "           1       0.96      0.98      0.97        89\n",
      "\n",
      "    accuracy                           0.96       143\n",
      "   macro avg       0.96      0.95      0.96       143\n",
      "weighted avg       0.96      0.96      0.96       143\n",
      "\n"
     ]
    }
   ],
   "source": [
    "#29: SVM with Precision, Recall, F1-Score\n",
    "from sklearn.metrics import classification_report\n",
    "from sklearn.svm import SVC\n",
    "from sklearn.model_selection import train_test_split\n",
    "\n",
    "svm = SVC(kernel='linear')\n",
    "svm.fit(X_train, y_train)\n",
    "y_pred = svm.predict(X_test)\n",
    "print(classification_report(y_test, y_pred))\n"
   ]
  },
  {
   "cell_type": "code",
   "execution_count": 13,
   "id": "b986ebdd-9dc8-445c-ad1c-843d1b1375a4",
   "metadata": {},
   "outputs": [
    {
     "name": "stdout",
     "output_type": "stream",
     "text": [
      "Log Loss: 0.9161723130348602\n"
     ]
    }
   ],
   "source": [
    "#30: Naïve Bayes with Log Loss\n",
    "from sklearn.naive_bayes import MultinomialNB\n",
    "from sklearn.metrics import log_loss\n",
    "\n",
    "nb = MultinomialNB()\n",
    "nb.fit(X_train, y_train)\n",
    "y_prob = nb.predict_proba(X_test)\n",
    "print(\"Log Loss:\", log_loss(y_test, y_prob))\n"
   ]
  },
  {
   "cell_type": "code",
   "execution_count": 14,
   "id": "09aaf1c4-d4a5-4730-bbd4-fa630e128933",
   "metadata": {},
   "outputs": [
    {
     "data": {
      "image/png": "[encoded data removed]",
      "text/plain": [
       "<Figure size 640x480 with 2 Axes>"
      ]
     },
     "metadata": {},
     "output_type": "display_data"
    }
   ],
   "source": [
    "#31: SVM Confusion Matrix Visualization\n",
    "from sklearn.metrics import confusion_matrix\n",
    "import seaborn as sns\n",
    "import matplotlib.pyplot as plt\n",
    "from sklearn.svm import SVC\n",
    "from sklearn.model_selection import train_test_split\n",
    "\n",
    "svm = SVC(kernel='linear')\n",
    "svm.fit(X_train, y_train)\n",
    "y_pred = svm.predict(X_test)\n",
    "\n",
    "cm = confusion_matrix(y_test, y_pred)\n",
    "sns.heatmap(cm, annot=True, fmt=\"d\")\n",
    "plt.show()\n"
   ]
  },
  {
   "cell_type": "code",
   "execution_count": 15,
   "id": "01d975d9-92fc-47cf-9017-a1474f4b3b3b",
   "metadata": {},
   "outputs": [
    {
     "name": "stdout",
     "output_type": "stream",
     "text": [
      "MAE: 0.8674205743031627\n"
     ]
    }
   ],
   "source": [
    "#32: SVM Regressor with Mean Absolute Error\n",
    "from sklearn.svm import SVR\n",
    "from sklearn.datasets import fetch_california_housing\n",
    "from sklearn.model_selection import train_test_split\n",
    "from sklearn.metrics import mean_absolute_error\n",
    "\n",
    "housing = fetch_california_housing()\n",
    "X_h, y_h = housing.data, housing.target\n",
    "X_train_h, X_test_h, y_train_h, y_test_h = train_test_split(X_h, y_h, test_size=0.25, random_state=42)\n",
    "\n",
    "svr = SVR(kernel='rbf')\n",
    "svr.fit(X_train_h, y_train_h)\n",
    "y_pred_h = svr.predict(X_test_h)\n",
    "print(\"MAE:\", mean_absolute_error(y_test_h, y_pred_h))\n"
   ]
  },
  {
   "cell_type": "code",
   "execution_count": 7,
   "id": "08c784dd-5c6d-45dd-824b-97e2ed62b28f",
   "metadata": {},
   "outputs": [
    {
     "ename": "NameError",
     "evalue": "name 'nb' is not defined",
     "output_type": "error",
     "traceback": [
      "\u001b[1;31m---------------------------------------------------------------------------\u001b[0m",
      "\u001b[1;31mNameError\u001b[0m                                 Traceback (most recent call last)",
      "Cell \u001b[1;32mIn[7], line 5\u001b[0m\n\u001b[0;32m      1\u001b[0m \u001b[38;5;66;03m#33: Write a Python program to train a Naïve Bayes classifier and evaluate its performance using the ROC-AUC score\u001b[39;00m\n\u001b[0;32m      2\u001b[0m \n\u001b[0;32m      3\u001b[0m \n\u001b[0;32m      4\u001b[0m \u001b[38;5;66;03m# For binary classification, use only the probability of the positive class\u001b[39;00m\n\u001b[1;32m----> 5\u001b[0m y_prob \u001b[38;5;241m=\u001b[39m nb\u001b[38;5;241m.\u001b[39mpredict_proba(X_test)[:, \u001b[38;5;241m1\u001b[39m]  \u001b[38;5;66;03m# probability of class 1\u001b[39;00m\n\u001b[0;32m      7\u001b[0m roc_auc \u001b[38;5;241m=\u001b[39m roc_auc_score(y_test, y_prob)\n\u001b[0;32m      8\u001b[0m \u001b[38;5;28mprint\u001b[39m(\u001b[38;5;124m\"\u001b[39m\u001b[38;5;124mROC-AUC:\u001b[39m\u001b[38;5;124m\"\u001b[39m, roc_auc)\n",
      "\u001b[1;31mNameError\u001b[0m: name 'nb' is not defined"
     ]
    }
   ],
   "source": [
    "#33: Write a Python program to train a Naïve Bayes classifier and evaluate its performance using the ROC-AUC score\n",
    "\n",
    "\n",
    "# For binary classification, use only the probability of the positive class\n",
    "y_prob = nb.predict_proba(X_test)[:, 1]  # probability of class 1\n",
    "\n",
    "roc_auc = roc_auc_score(y_test, y_prob)\n",
    "print(\"ROC-AUC:\", roc_auc)\n",
    "\n",
    "\n",
    "\n"
   ]
  },
  {
   "cell_type": "code",
   "execution_count": 19,
   "id": "91d57947-9dad-466f-b3db-71dd5f448ddb",
   "metadata": {},
   "outputs": [
    {
     "name": "stdout",
     "output_type": "stream",
     "text": [
      "Bernoulli NB Accuracy: 0.6223776223776224\n"
     ]
    }
   ],
   "source": [
    "#34: Write a Python program to implement a Bernoulli Naïve Bayes classifier for binary classification on a dataset with binary features\n",
    "from sklearn.naive_bayes import BernoulliNB\n",
    "\n",
    "bnb = BernoulliNB()\n",
    "bnb.fit(X_train, y_train)\n",
    "y_pred_bnb = bnb.predict(X_test)\n",
    "print(\"Bernoulli NB Accuracy:\", accuracy_score(y_test, y_pred_bnb))\n",
    "\n"
   ]
  },
  {
   "cell_type": "code",
   "execution_count": 20,
   "id": "f2e1aa7e-9bea-492b-9121-20b99c616817",
   "metadata": {},
   "outputs": [
    {
     "data": {
      "image/png": "[encoded data removed]",
      "text/plain": [
       "<Figure size 1200x400 with 3 Axes>"
      ]
     },
     "metadata": {},
     "output_type": "display_data"
    }
   ],
   "source": [
    "#35: Write a Python program to train an SVM Classifier with different C values and compare the decision boundaries visually\n",
    "import matplotlib.pyplot as plt\n",
    "import numpy as np\n",
    "from sklearn.datasets import make_classification\n",
    "from sklearn.svm import SVC\n",
    "\n",
    "X_vis, y_vis = make_classification(n_samples=100, n_features=2, n_redundant=0,\n",
    "                                   n_clusters_per_class=1, random_state=42)\n",
    "C_values = [0.1, 1, 10]\n",
    "plt.figure(figsize=(12,4))\n",
    "\n",
    "for i, C in enumerate(C_values):\n",
    "    model = SVC(kernel='linear', C=C)\n",
    "    model.fit(X_vis, y_vis)\n",
    "    plt.subplot(1,3,i+1)\n",
    "    xx, yy = np.meshgrid(np.linspace(X_vis[:,0].min()-1, X_vis[:,0].max()+1, 100),\n",
    "                         np.linspace(X_vis[:,1].min()-1, X_vis[:,1].max()+1, 100))\n",
    "    Z = model.predict(np.c_[xx.ravel(), yy.ravel()]).reshape(xx.shape)\n",
    "    plt.contourf(xx, yy, Z, alpha=0.3)\n",
    "    plt.scatter(X_vis[:,0], X_vis[:,1], c=y_vis, s=20, edgecolor='k')\n",
    "    plt.title(f\"C={C}\")\n",
    "plt.show()\n"
   ]
  },
  {
   "cell_type": "code",
   "execution_count": 21,
   "id": "b4b76b7d-dfb7-4ca9-8cf9-07a88bbe8c29",
   "metadata": {},
   "outputs": [
    {
     "name": "stdout",
     "output_type": "stream",
     "text": [
      "Bernoulli NB Accuracy: 0.6223776223776224\n"
     ]
    }
   ],
   "source": [
    "#36: Write a Python program to train a Bernoulli Naïve Bayes classifier for binary classification on a dataset with binary features\n",
    "bnb = BernoulliNB()\n",
    "bnb.fit(X_train, y_train)\n",
    "print(\"Bernoulli NB Accuracy:\", bnb.score(X_test, y_test))\n"
   ]
  },
  {
   "cell_type": "code",
   "execution_count": 22,
   "id": "15050ed0-dd60-4b45-ab36-c0ff947058bc",
   "metadata": {},
   "outputs": [
    {
     "name": "stdout",
     "output_type": "stream",
     "text": [
      "Accuracy with scaling: 0.9790209790209791\n"
     ]
    }
   ],
   "source": [
    "#37: Write a Python program to apply feature scaling before training an SVM model and compare results with unscaled data\n",
    "from sklearn.preprocessing import StandardScaler\n",
    "from sklearn.svm import SVC\n",
    "\n",
    "scaler = StandardScaler()\n",
    "X_scaled = scaler.fit_transform(X)\n",
    "X_train_s, X_test_s, y_train_s, y_test_s = train_test_split(X_scaled, y, test_size=0.25, random_state=42)\n",
    "\n",
    "svm = SVC(kernel='linear')\n",
    "svm.fit(X_train_s, y_train_s)\n",
    "print(\"Accuracy with scaling:\", svm.score(X_test_s, y_test_s))\n"
   ]
  },
  {
   "cell_type": "code",
   "execution_count": 23,
   "id": "2f399a0a-565c-4f67-9766-eadcec5075d3",
   "metadata": {},
   "outputs": [
    {
     "name": "stdout",
     "output_type": "stream",
     "text": [
      "Accuracy before Laplace smoothing: 0.958041958041958\n",
      "Accuracy after Laplace smoothing: 0.9440559440559441\n"
     ]
    }
   ],
   "source": [
    "#38: Write a Python program to train a Gaussian Naïve Bayes model and compare the predictions before and after Laplace Smoothing\n",
    "from sklearn.naive_bayes import GaussianNB\n",
    "\n",
    "gnb = GaussianNB(var_smoothing=1e-9)\n",
    "gnb.fit(X_train, y_train)\n",
    "y_pred1 = gnb.predict(X_test)\n",
    "\n",
    "gnb_ls = GaussianNB(var_smoothing=1e-2)\n",
    "gnb_ls.fit(X_train, y_train)\n",
    "y_pred2 = gnb_ls.predict(X_test)\n",
    "\n",
    "print(\"Accuracy before Laplace smoothing:\", accuracy_score(y_test, y_pred1))\n",
    "print(\"Accuracy after Laplace smoothing:\", accuracy_score(y_test, y_pred2))\n"
   ]
  },
  {
   "cell_type": "code",
   "execution_count": 24,
   "id": "abc2d679-f272-4af9-ade0-783ef1a38317",
   "metadata": {},
   "outputs": [
    {
     "name": "stdout",
     "output_type": "stream",
     "text": [
      "Best parameters: {'C': 10, 'gamma': 0.01, 'kernel': 'linear'}\n",
      "Best score: 0.9624413145539906\n"
     ]
    }
   ],
   "source": [
    "#39: Write a Python program to train an SVM Classifier and use GridSearchCV to tune the hyperparameters (C, gamma, kernel)\n",
    "from sklearn.model_selection import GridSearchCV\n",
    "from sklearn.svm import SVC\n",
    "\n",
    "param_grid = {'C':[0.1,1,10],'gamma':[0.01,0.1,1],'kernel':['linear','rbf']}\n",
    "grid = GridSearchCV(SVC(), param_grid, cv=3)\n",
    "grid.fit(X_train, y_train)\n",
    "print(\"Best parameters:\", grid.best_params_)\n",
    "print(\"Best score:\", grid.best_score_)\n"
   ]
  },
  {
   "cell_type": "code",
   "execution_count": 30,
   "id": "4fadd905-7504-4b6a-83a2-9c34e144b608",
   "metadata": {},
   "outputs": [
    {
     "name": "stdout",
     "output_type": "stream",
     "text": [
      "Accuracy with class weighting: 0.86\n"
     ]
    }
   ],
   "source": [
    "#40: Write a Python program to train an SVM Classifier on an imbalanced dataset and apply class weighting\n",
    "from sklearn.datasets import make_classification\n",
    "from sklearn.svm import SVC\n",
    "from sklearn.model_selection import train_test_split\n",
    "from sklearn.metrics import accuracy_score\n",
    "\n",
    "# Corrected: n_features=2, n_informative=2, n_redundant=0\n",
    "X_imb, y_imb = make_classification(n_samples=200, n_features=2, n_informative=2, \n",
    "                                   n_redundant=0, n_classes=2, weights=[0.9, 0.1], \n",
    "                                   random_state=42)\n",
    "X_train_i, X_test_i, y_train_i, y_test_i = train_test_split(X_imb, y_imb, test_size=0.25, random_state=42)\n",
    "\n",
    "# SVM with class weighting to handle imbalance\n",
    "svm = SVC(kernel='linear', class_weight='balanced')\n",
    "svm.fit(X_train_i, y_train_i)\n",
    "y_pred_i = svm.predict(X_test_i)\n",
    "\n",
    "print(\"Accuracy with class weighting:\", accuracy_score(y_test_i, y_pred_i))\n"
   ]
  },
  {
   "cell_type": "code",
   "execution_count": null,
   "id": "27e48d09-48a3-4c96-91f9-4ba4d5a03b17",
   "metadata": {},
   "outputs": [],
   "source": [
    "#41: Write a Python program to implement a Naïve Bayes classifier for spam detection using email data\n",
    "from sklearn.model_selection import train_test_split\n",
    "from sklearn.feature_extraction.text import CountVectorizer\n",
    "from sklearn.naive_bayes import MultinomialNB\n",
    "from sklearn.metrics import accuracy_score\n",
    "\n",
    "emails = [\"Win cash now\", \"Hello friend\", \"Claim your prize\", \"Let's meet tomorrow\"]\n",
    "labels = [1, 0, 1, 0]  # 1=spam, 0=not spam\n",
    "\n",
    "vectorizer = CountVectorizer()\n",
    "X = vectorizer.fit_transform(emails)\n",
    "y = labels\n",
    "\n",
    "X_train, X_test, y_train, y_test = train_test_split(X, y, test_size=0.25, random_state=42)\n",
    "nb = MultinomialNB()\n",
    "nb.fit(X_train, y_train)\n",
    "y_pred = nb.predict(X_test)\n",
    "print(\"Spam detection Accuracy:\", accuracy_score(y_test, y_pred))\n",
    "\n"
   ]
  },
  {
   "cell_type": "code",
   "execution_count": 26,
   "id": "55ab5463-c82f-4ad3-8be4-7fe83b877998",
   "metadata": {},
   "outputs": [
    {
     "name": "stdout",
     "output_type": "stream",
     "text": [
      "SVM Accuracy: 0.958041958041958\n",
      "Naïve Bayes Accuracy: 0.9230769230769231\n"
     ]
    }
   ],
   "source": [
    "#42: Write a Python program to train an SVM Classifier and a Naïve Bayes Classifier on the same dataset and compare their accuracy\n",
    "from sklearn.svm import SVC\n",
    "from sklearn.metrics import accuracy_score\n",
    "\n",
    "# Using the same X_train, X_test from previous spam dataset\n",
    "svm = SVC(kernel='linear', probability=True)\n",
    "svm.fit(X_train, y_train)\n",
    "y_pred_svm = svm.predict(X_test)\n",
    "\n",
    "nb = MultinomialNB()\n",
    "nb.fit(X_train, y_train)\n",
    "y_pred_nb = nb.predict(X_test)\n",
    "\n",
    "print(\"SVM Accuracy:\", accuracy_score(y_test, y_pred_svm))\n",
    "print(\"Naïve Bayes Accuracy:\", accuracy_score(y_test, y_pred_nb))\n"
   ]
  },
  {
   "cell_type": "code",
   "execution_count": 27,
   "id": "602ca547-457c-4907-99f0-400394508457",
   "metadata": {},
   "outputs": [
    {
     "name": "stdout",
     "output_type": "stream",
     "text": [
      "Accuracy after feature selection: 0.9020979020979021\n"
     ]
    }
   ],
   "source": [
    "#43: Write a Python program to perform feature selection before training a Naïve Bayes classifier and compare results\n",
    "from sklearn.feature_selection import SelectKBest, chi2\n",
    "from sklearn.naive_bayes import MultinomialNB\n",
    "from sklearn.metrics import accuracy_score\n",
    "\n",
    "selector = SelectKBest(score_func=chi2, k=2)\n",
    "X_new = selector.fit_transform(X, y)\n",
    "\n",
    "X_train_f, X_test_f, y_train_f, y_test_f = train_test_split(X_new, y, test_size=0.25, random_state=42)\n",
    "nb = MultinomialNB()\n",
    "nb.fit(X_train_f, y_train_f)\n",
    "y_pred_f = nb.predict(X_test_f)\n",
    "print(\"Accuracy after feature selection:\", accuracy_score(y_test_f, y_pred_f))\n"
   ]
  },
  {
   "cell_type": "code",
   "execution_count": 28,
   "id": "6a68b772-f6d0-4acd-90ef-52dfe313e369",
   "metadata": {},
   "outputs": [
    {
     "name": "stdout",
     "output_type": "stream",
     "text": [
      "OvR Accuracy: 0.9777777777777777\n",
      "OvO Accuracy: 0.9777777777777777\n"
     ]
    }
   ],
   "source": [
    "#44: Write a Python program to train an SVM Classifier using One-vs-Rest (OvR) and One-vs-One (OvO) strategies on the Wine dataset and compare their accuracy\n",
    "from sklearn.datasets import load_wine\n",
    "from sklearn.model_selection import train_test_split\n",
    "from sklearn.multiclass import OneVsRestClassifier, OneVsOneClassifier\n",
    "from sklearn.svm import SVC\n",
    "\n",
    "wine = load_wine()\n",
    "X, y = wine.data, wine.target\n",
    "X_train, X_test, y_train, y_test = train_test_split(X, y, test_size=0.25, random_state=42)\n",
    "\n",
    "ovr_svm = OneVsRestClassifier(SVC(kernel='linear'))\n",
    "ovr_svm.fit(X_train, y_train)\n",
    "print(\"OvR Accuracy:\", ovr_svm.score(X_test, y_test))\n",
    "\n",
    "ovo_svm = OneVsOneClassifier(SVC(kernel='linear'))\n",
    "ovo_svm.fit(X_train, y_train)\n",
    "print(\"OvO Accuracy:\", ovo_svm.score(X_test, y_test))\n"
   ]
  },
  {
   "cell_type": "code",
   "execution_count": 29,
   "id": "17b5e241-2b28-43ff-a728-f9b1620ef23d",
   "metadata": {},
   "outputs": [
    {
     "name": "stdout",
     "output_type": "stream",
     "text": [
      "linear kernel Accuracy: 0.958041958041958\n",
      "poly kernel Accuracy: 0.9440559440559441\n",
      "rbf kernel Accuracy: 0.951048951048951\n"
     ]
    }
   ],
   "source": [
    "#45: Write a Python program to train an SVM Classifier using Linear, Polynomial, and RBF kernels on the Breast Cancer dataset and compare their accuracy\n",
    "from sklearn.datasets import load_breast_cancer\n",
    "from sklearn.model_selection import train_test_split\n",
    "from sklearn.svm import SVC\n",
    "\n",
    "cancer = load_breast_cancer()\n",
    "X, y = cancer.data, cancer.target\n",
    "X_train, X_test, y_train, y_test = train_test_split(X, y, test_size=0.25, random_state=42)\n",
    "\n",
    "for kernel_type in ['linear', 'poly', 'rbf']:\n",
    "    svm = SVC(kernel=kernel_type)\n",
    "    svm.fit(X_train, y_train)\n",
    "    print(f\"{kernel_type} kernel Accuracy:\", svm.score(X_test, y_test))\n"
   ]
  },
  {
   "cell_type": "code",
   "execution_count": null,
   "id": "1619b12a-c7f1-4f56-9170-7c162d38b156",
   "metadata": {},
   "outputs": [],
   "source": []
  },
  {
   "cell_type": "code",
   "execution_count": null,
   "id": "1f1b885e-516a-4f17-9d62-01bbfe28a2fc",
   "metadata": {},
   "outputs": [],
   "source": []
  },
  {
   "cell_type": "code",
   "execution_count": null,
   "id": "112dd41c-1380-4fed-be8d-ed2b1bc01fe9",
   "metadata": {},
   "outputs": [],
   "source": []
  },
  {
   "cell_type": "code",
   "execution_count": null,
   "id": "15740ded-dea9-49f4-9238-100ac4b4581d",
   "metadata": {},
   "outputs": [],
   "source": []
  },
  {
   "cell_type": "code",
   "execution_count": null,
   "id": "e1cd88ef-db8d-43df-baea-8464a9869757",
   "metadata": {},
   "outputs": [],
   "source": []
  },
  {
   "cell_type": "code",
   "execution_count": null,
   "id": "4845f1a6-9ab1-4dd0-ab27-569e70aed8c9",
   "metadata": {},
   "outputs": [],
   "source": []
  }
 ],
 "metadata": {
  "kernelspec": {
   "display_name": "Python 3 (ipykernel)",
   "language": "python",
   "name": "python3"
  },
  "language_info": {
   "codemirror_mode": {
    "name": "ipython",
    "version": 3
   },
   "file_extension": ".py",
   "mimetype": "text/x-python",
   "name": "python",
   "nbconvert_exporter": "python",
   "pygments_lexer": "ipython3",
   "version": "3.12.7"
  }
 },
 "nbformat": 4,
 "nbformat_minor": 5
}
